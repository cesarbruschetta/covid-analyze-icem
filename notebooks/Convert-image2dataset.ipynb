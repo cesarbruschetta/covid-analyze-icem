{
 "cells": [
  {
   "cell_type": "markdown",
   "metadata": {},
   "source": [
    "## Converção e extração dos dados das imagens"
   ]
  },
  {
   "cell_type": "markdown",
   "metadata": {},
   "source": [
    "#### Importação das dependencias"
   ]
  },
  {
   "cell_type": "code",
   "execution_count": 1,
   "metadata": {},
   "outputs": [],
   "source": [
    "import re\n",
    "import pandas as pd\n",
    "from google.cloud import vision"
   ]
  },
  {
   "cell_type": "markdown",
   "metadata": {},
   "source": [
    "#### Constantes"
   ]
  },
  {
   "cell_type": "code",
   "execution_count": 2,
   "metadata": {},
   "outputs": [],
   "source": [
    "REGEX_DATA = r\"([0-9]{2}\\/?\\/[0-9]{2}\\/?\\/[0-9]{2,4})\"\n",
    "REGEX_INVESTIGADO = \"\\\\nInvestiga.*?([o|0-9]*)\\\\n\"\n",
    "REGEX_DESCARTADO = \"\\\\nDescartado.*?([o|0-9]*)\\\\n\"\n",
    "REGEX_CONFIRMADO = \"\\\\nConfirmado.*?([o|0-9]*)\\\\n\""
   ]
  },
  {
   "cell_type": "markdown",
   "metadata": {},
   "source": [
    "#### Lendo DataSet de Boletins"
   ]
  },
  {
   "cell_type": "code",
   "execution_count": 3,
   "metadata": {},
   "outputs": [
    {
     "data": {
      "text/html": [
       "<div>\n",
       "<style scoped>\n",
       "    .dataframe tbody tr th:only-of-type {\n",
       "        vertical-align: middle;\n",
       "    }\n",
       "\n",
       "    .dataframe tbody tr th {\n",
       "        vertical-align: top;\n",
       "    }\n",
       "\n",
       "    .dataframe thead th {\n",
       "        text-align: right;\n",
       "    }\n",
       "</style>\n",
       "<table border=\"1\" class=\"dataframe\">\n",
       "  <thead>\n",
       "    <tr style=\"text-align: right;\">\n",
       "      <th></th>\n",
       "      <th>Unnamed: 0</th>\n",
       "      <th>post_id</th>\n",
       "      <th>source</th>\n",
       "      <th>date</th>\n",
       "      <th>text</th>\n",
       "      <th>image</th>\n",
       "      <th>url</th>\n",
       "    </tr>\n",
       "  </thead>\n",
       "  <tbody>\n",
       "    <tr>\n",
       "      <th>0</th>\n",
       "      <td>0</td>\n",
       "      <td>962170830896016</td>\n",
       "      <td>Prefeitura de Icém</td>\n",
       "      <td>[datetime.datetime(2020, 6, 29, 17, 0, 11)]</td>\n",
       "      <td>🚨Confira o Boletim Informativo🚨 de Icém refere...</td>\n",
       "      <td>https://scontent.fcgh7-1.fna.fbcdn.net/v/t1.0-...</td>\n",
       "      <td>/story.php?story_fbid=962170830896016&amp;id=23449...</td>\n",
       "    </tr>\n",
       "    <tr>\n",
       "      <th>1</th>\n",
       "      <td>1</td>\n",
       "      <td>961495100963589</td>\n",
       "      <td>Prefeitura de Icém</td>\n",
       "      <td>[datetime.datetime(2020, 6, 28, 17, 0, 15)]</td>\n",
       "      <td>🚨Confira o Boletim Informativo🚨 de Icém refere...</td>\n",
       "      <td>https://scontent.fcgh7-1.fna.fbcdn.net/v/t1.0-...</td>\n",
       "      <td>/story.php?story_fbid=961495100963589&amp;id=23449...</td>\n",
       "    </tr>\n",
       "    <tr>\n",
       "      <th>2</th>\n",
       "      <td>3</td>\n",
       "      <td>960726124373820</td>\n",
       "      <td>Prefeitura de Icém</td>\n",
       "      <td>[datetime.datetime(2020, 6, 27, 17, 32, 15)]</td>\n",
       "      <td>🚨Confira o Boletim Informativo🚨 de Icém refere...</td>\n",
       "      <td>https://scontent.fcgh7-1.fna.fbcdn.net/v/t1.0-...</td>\n",
       "      <td>/story.php?story_fbid=960726124373820&amp;id=23449...</td>\n",
       "    </tr>\n",
       "    <tr>\n",
       "      <th>3</th>\n",
       "      <td>5</td>\n",
       "      <td>959994087780357</td>\n",
       "      <td>Prefeitura de Icém</td>\n",
       "      <td>[datetime.datetime(2020, 6, 26, 17, 17, 51)]</td>\n",
       "      <td>🚨Confira o Boletim Informativo🚨 de Icém refere...</td>\n",
       "      <td>https://scontent.fcgh7-1.fna.fbcdn.net/v/t1.0-...</td>\n",
       "      <td>/story.php?story_fbid=959994087780357&amp;id=23449...</td>\n",
       "    </tr>\n",
       "    <tr>\n",
       "      <th>4</th>\n",
       "      <td>6</td>\n",
       "      <td>959277597852006</td>\n",
       "      <td>Prefeitura de Icém</td>\n",
       "      <td>[datetime.datetime(2020, 6, 25, 17, 0, 19)]</td>\n",
       "      <td>🚨Confira o Boletim Informativo🚨 de Icém refere...</td>\n",
       "      <td>https://scontent.fcgh7-1.fna.fbcdn.net/v/t1.0-...</td>\n",
       "      <td>/story.php?story_fbid=959277597852006&amp;id=23449...</td>\n",
       "    </tr>\n",
       "  </tbody>\n",
       "</table>\n",
       "</div>"
      ],
      "text/plain": [
       "   Unnamed: 0          post_id              source  \\\n",
       "0           0  962170830896016  Prefeitura de Icém   \n",
       "1           1  961495100963589  Prefeitura de Icém   \n",
       "2           3  960726124373820  Prefeitura de Icém   \n",
       "3           5  959994087780357  Prefeitura de Icém   \n",
       "4           6  959277597852006  Prefeitura de Icém   \n",
       "\n",
       "                                           date  \\\n",
       "0   [datetime.datetime(2020, 6, 29, 17, 0, 11)]   \n",
       "1   [datetime.datetime(2020, 6, 28, 17, 0, 15)]   \n",
       "2  [datetime.datetime(2020, 6, 27, 17, 32, 15)]   \n",
       "3  [datetime.datetime(2020, 6, 26, 17, 17, 51)]   \n",
       "4   [datetime.datetime(2020, 6, 25, 17, 0, 19)]   \n",
       "\n",
       "                                                text  \\\n",
       "0  🚨Confira o Boletim Informativo🚨 de Icém refere...   \n",
       "1  🚨Confira o Boletim Informativo🚨 de Icém refere...   \n",
       "2  🚨Confira o Boletim Informativo🚨 de Icém refere...   \n",
       "3  🚨Confira o Boletim Informativo🚨 de Icém refere...   \n",
       "4  🚨Confira o Boletim Informativo🚨 de Icém refere...   \n",
       "\n",
       "                                               image  \\\n",
       "0  https://scontent.fcgh7-1.fna.fbcdn.net/v/t1.0-...   \n",
       "1  https://scontent.fcgh7-1.fna.fbcdn.net/v/t1.0-...   \n",
       "2  https://scontent.fcgh7-1.fna.fbcdn.net/v/t1.0-...   \n",
       "3  https://scontent.fcgh7-1.fna.fbcdn.net/v/t1.0-...   \n",
       "4  https://scontent.fcgh7-1.fna.fbcdn.net/v/t1.0-...   \n",
       "\n",
       "                                                 url  \n",
       "0  /story.php?story_fbid=962170830896016&id=23449...  \n",
       "1  /story.php?story_fbid=961495100963589&id=23449...  \n",
       "2  /story.php?story_fbid=960726124373820&id=23449...  \n",
       "3  /story.php?story_fbid=959994087780357&id=23449...  \n",
       "4  /story.php?story_fbid=959277597852006&id=23449...  "
      ]
     },
     "execution_count": 3,
     "metadata": {},
     "output_type": "execute_result"
    }
   ],
   "source": [
    "df_posts = pd.read_csv(\"../dataset/posts_boletins_refine.csv\")\n",
    "df_posts.head()"
   ]
  },
  {
   "cell_type": "markdown",
   "metadata": {},
   "source": [
    "#### Extraindo texto das imagens"
   ]
  },
  {
   "cell_type": "code",
   "execution_count": 12,
   "metadata": {},
   "outputs": [],
   "source": [
    "def detect_text_uri(uri):\n",
    "    \"\"\"Detects text in the file located in Google Cloud Storage or on the Web.\n",
    "    \"\"\"\n",
    "    client = vision.ImageAnnotatorClient()\n",
    "    image = vision.types.Image()\n",
    "    image.source.image_uri = uri\n",
    "\n",
    "    response = client.text_detection(\n",
    "        image=image, image_context={\"language_hints\": [\"pt_BR\",]},\n",
    "    )\n",
    "    if response.error.message:\n",
    "        raise Exception(\n",
    "            \"{}\\nFor more info on error messages, check: \"\n",
    "            \"https://cloud.google.com/apis/design/errors\".format(response.error.message)\n",
    "        )\n",
    "    else:\n",
    "        return response.text_annotations[0].description"
   ]
  },
  {
   "cell_type": "code",
   "execution_count": 13,
   "metadata": {
    "scrolled": true
   },
   "outputs": [
    {
     "name": "stdout",
     "output_type": "stream",
     "text": [
      "Processando 962170830896016\n",
      "Processando 961495100963589\n",
      "Processando 960726124373820\n",
      "Processando 959994087780357\n",
      "Processando 959277597852006\n",
      "Processando 957834814662951\n",
      "Processando 957074851405614\n",
      "Processando 956420174804415\n",
      "Processando 955575804888852\n",
      "Processando 954818228297943\n",
      "Processando 954101798369586\n",
      "Processando 953440648435701\n",
      "Processando 953350978444668\n",
      "Processando 952634735182959\n",
      "Processando 951911955255237\n",
      "Processando 951201068659659\n",
      "Processando 950399455406487\n",
      "Processando 949655008814265\n",
      "Processando 948927698886996\n",
      "Processando 948225618957204\n",
      "Processando 947524912360608\n",
      "Processando 946797012433398\n",
      "Processando 945961455850287\n",
      "Processando 945164655929967\n",
      "Processando 944375739342192\n",
      "Processando 943599962753103\n",
      "Processando 942869009492865\n",
      "Processando 942045649575201\n",
      "Processando 941331232979976\n",
      "Processando 940632983049801\n",
      "Processando 939895953123504\n",
      "Processando 938486406597792\n",
      "Processando 937799159999850\n",
      "Processando 937118353401264\n",
      "Processando 936438846802548\n",
      "Processando 935744646871968\n",
      "Processando 934966390283127\n",
      "Processando 934317227014710\n",
      "Processando 933681570411609\n",
      "Processando 932964337149999\n",
      "Processando 932237137222719\n",
      "Processando 931599930619773\n",
      "Processando 930854597360973\n",
      "Processando 930050567441376\n",
      "Processando 929337364179363\n",
      "Processando 928653134247786\n",
      "Processando 927855387660894\n",
      "Processando 927102641069502\n",
      "Processando 926448024468297\n",
      "Processando 925721217874311\n",
      "Processando 925256867920746\n",
      "Processando 924278034685296\n",
      "Processando 923407364772363\n",
      "Processando 922724191507347\n",
      "Processando 922017348244698\n",
      "Processando 921395901640176\n",
      "Processando 920747925038307\n",
      "Processando 919967415116358\n",
      "Processando 918593851920381\n",
      "Processando 917796282000138\n",
      "Processando 917122198734213\n",
      "Processando 916383368808096\n",
      "Processando 896425497470550\n",
      "Processando 893512011095232\n",
      "Processando 892766317836468\n",
      "Processando 891988834580883\n",
      "Processando 891246181321815\n",
      "Processando 889596544820112\n",
      "Processando 888791801567253\n"
     ]
    }
   ],
   "source": [
    "words = []\n",
    "for _, post in df_posts.iterrows():\n",
    "    print(f\"Processando {post.post_id}\")\n",
    "    words.append(detect_text_uri(post.image))"
   ]
  },
  {
   "cell_type": "markdown",
   "metadata": {},
   "source": [
    "#### Gerando dataset com dados de: Data, Investigação, Descartados, Confirmados"
   ]
  },
  {
   "cell_type": "code",
   "execution_count": 6,
   "metadata": {},
   "outputs": [],
   "source": [
    "def extract_text_by_regex(string):\n",
    "    def _extract(regex, string):\n",
    "        match = re.search(regex, string, re.MULTILINE)\n",
    "        if match:\n",
    "            return match.groups()[0]\n",
    "        return \"\"\n",
    "\n",
    "    return {\n",
    "        \"data\": _extract(REGEX_DATA, string),\n",
    "        \"investigado\": _extract(REGEX_INVESTIGADO, string),\n",
    "        \"descartado\": _extract(REGEX_DESCARTADO, string),\n",
    "        \"confirmado\": _extract(REGEX_CONFIRMADO, string),\n",
    "    }"
   ]
  },
  {
   "cell_type": "code",
   "execution_count": 7,
   "metadata": {},
   "outputs": [
    {
     "data": {
      "text/html": [
       "<div>\n",
       "<style scoped>\n",
       "    .dataframe tbody tr th:only-of-type {\n",
       "        vertical-align: middle;\n",
       "    }\n",
       "\n",
       "    .dataframe tbody tr th {\n",
       "        vertical-align: top;\n",
       "    }\n",
       "\n",
       "    .dataframe thead th {\n",
       "        text-align: right;\n",
       "    }\n",
       "</style>\n",
       "<table border=\"1\" class=\"dataframe\">\n",
       "  <thead>\n",
       "    <tr style=\"text-align: right;\">\n",
       "      <th></th>\n",
       "      <th>data</th>\n",
       "      <th>investigado</th>\n",
       "      <th>descartado</th>\n",
       "      <th>confirmado</th>\n",
       "    </tr>\n",
       "  </thead>\n",
       "  <tbody>\n",
       "    <tr>\n",
       "      <th>0</th>\n",
       "      <td>29/06/2020</td>\n",
       "      <td>01</td>\n",
       "      <td>27</td>\n",
       "      <td>03</td>\n",
       "    </tr>\n",
       "    <tr>\n",
       "      <th>1</th>\n",
       "      <td>28/06/2020</td>\n",
       "      <td>02</td>\n",
       "      <td>24</td>\n",
       "      <td>03</td>\n",
       "    </tr>\n",
       "    <tr>\n",
       "      <th>2</th>\n",
       "      <td>27/06/2020</td>\n",
       "      <td>02</td>\n",
       "      <td>24</td>\n",
       "      <td>03</td>\n",
       "    </tr>\n",
       "    <tr>\n",
       "      <th>3</th>\n",
       "      <td>26/06/2020</td>\n",
       "      <td>02</td>\n",
       "      <td>24</td>\n",
       "      <td></td>\n",
       "    </tr>\n",
       "    <tr>\n",
       "      <th>4</th>\n",
       "      <td>25/06/2020</td>\n",
       "      <td>o</td>\n",
       "      <td>23</td>\n",
       "      <td>02</td>\n",
       "    </tr>\n",
       "  </tbody>\n",
       "</table>\n",
       "</div>"
      ],
      "text/plain": [
       "         data investigado descartado confirmado\n",
       "0  29/06/2020          01         27         03\n",
       "1  28/06/2020          02         24         03\n",
       "2  27/06/2020          02         24         03\n",
       "3  26/06/2020          02         24           \n",
       "4  25/06/2020           o         23         02"
      ]
     },
     "execution_count": 7,
     "metadata": {},
     "output_type": "execute_result"
    }
   ],
   "source": [
    "data = pd.DataFrame(\n",
    "    [extract_text_by_regex(word) for word in words],\n",
    "    columns=[\"data\", \"investigado\", \"descartado\", \"confirmado\"],\n",
    ")\n",
    "data.head()"
   ]
  },
  {
   "cell_type": "code",
   "execution_count": 8,
   "metadata": {},
   "outputs": [],
   "source": [
    "data = data.replace(\"o\", 0)\n",
    "data.to_csv(\"../dataset/dados_covid_trusted.csv\")\n",
    "# PS: o dataset precisou de correções manuais"
   ]
  }
 ],
 "metadata": {
  "kernelspec": {
   "display_name": "scrap",
   "language": "python",
   "name": "scrap"
  },
  "language_info": {
   "codemirror_mode": {
    "name": "ipython",
    "version": 3
   },
   "file_extension": ".py",
   "mimetype": "text/x-python",
   "name": "python",
   "nbconvert_exporter": "python",
   "pygments_lexer": "ipython3",
   "version": "3.7.7"
  }
 },
 "nbformat": 4,
 "nbformat_minor": 4
}
