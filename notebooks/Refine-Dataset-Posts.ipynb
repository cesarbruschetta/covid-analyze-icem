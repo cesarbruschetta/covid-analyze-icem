{
 "cells": [
  {
   "cell_type": "markdown",
   "metadata": {},
   "source": [
    "## Refinamento e recuperação das imagens dos Posts de boletins"
   ]
  },
  {
   "cell_type": "markdown",
   "metadata": {},
   "source": [
    "#### Importação das dependencias"
   ]
  },
  {
   "cell_type": "code",
   "execution_count": 1,
   "metadata": {},
   "outputs": [],
   "source": [
    "import os\n",
    "import time\n",
    "import pandas as pd\n",
    "\n",
    "from selenium import webdriver\n",
    "from selenium.webdriver.chrome.options import Options\n",
    "from selenium.common.exceptions import NoSuchElementException"
   ]
  },
  {
   "cell_type": "markdown",
   "metadata": {},
   "source": [
    "#### Definindo Constantes"
   ]
  },
  {
   "cell_type": "code",
   "execution_count": 2,
   "metadata": {},
   "outputs": [],
   "source": [
    "CHROME_PATH = '/usr/bin/google-chrome'\n",
    "CHROMEDRIVER_PATH = '../bin/chromedriver'\n",
    "WINDOW_SIZE = \"1920,1080\"\n",
    "\n",
    "chrome_options = Options()  \n",
    "chrome_options.add_argument(\"--headless\")  \n",
    "chrome_options.add_argument(\"--window-size=%s\" % WINDOW_SIZE)\n",
    "chrome_options.binary_location = CHROME_PATH"
   ]
  },
  {
   "cell_type": "markdown",
   "metadata": {},
   "source": [
    "#### Lendo DataSet de Posts"
   ]
  },
  {
   "cell_type": "code",
   "execution_count": 3,
   "metadata": {},
   "outputs": [
    {
     "data": {
      "text/html": [
       "<div>\n",
       "<style scoped>\n",
       "    .dataframe tbody tr th:only-of-type {\n",
       "        vertical-align: middle;\n",
       "    }\n",
       "\n",
       "    .dataframe tbody tr th {\n",
       "        vertical-align: top;\n",
       "    }\n",
       "\n",
       "    .dataframe thead th {\n",
       "        text-align: right;\n",
       "    }\n",
       "</style>\n",
       "<table border=\"1\" class=\"dataframe\">\n",
       "  <thead>\n",
       "    <tr style=\"text-align: right;\">\n",
       "      <th></th>\n",
       "      <th>post_id</th>\n",
       "      <th>source</th>\n",
       "      <th>date</th>\n",
       "      <th>text</th>\n",
       "      <th>image</th>\n",
       "      <th>url</th>\n",
       "    </tr>\n",
       "  </thead>\n",
       "  <tbody>\n",
       "    <tr>\n",
       "      <th>0</th>\n",
       "      <td>962170830896016</td>\n",
       "      <td>Prefeitura de Icém</td>\n",
       "      <td>[datetime.datetime(2020, 6, 29, 17, 0, 11)]</td>\n",
       "      <td>🚨Confira o Boletim Informativo🚨 de Icém refere...</td>\n",
       "      <td>https://scontent.fcgh7-1.fna.fbcdn.net/v/t1.0-...</td>\n",
       "      <td>/story.php?story_fbid=962170830896016&amp;id=23449...</td>\n",
       "    </tr>\n",
       "    <tr>\n",
       "      <th>1</th>\n",
       "      <td>961495100963589</td>\n",
       "      <td>Prefeitura de Icém</td>\n",
       "      <td>[datetime.datetime(2020, 6, 28, 17, 0, 15)]</td>\n",
       "      <td>🚨Confira o Boletim Informativo🚨 de Icém refere...</td>\n",
       "      <td>https://scontent.fcgh7-1.fna.fbcdn.net/v/t1.0-...</td>\n",
       "      <td>/story.php?story_fbid=961495100963589&amp;id=23449...</td>\n",
       "    </tr>\n",
       "    <tr>\n",
       "      <th>2</th>\n",
       "      <td>961187350994364</td>\n",
       "      <td>Prefeitura de Icém</td>\n",
       "      <td>[datetime.datetime(2020, 6, 28, 10, 15, 59)]</td>\n",
       "      <td>Quero agradecer a cada um doador de sangue mui...</td>\n",
       "      <td>https://scontent.fcgh7-1.fna.fbcdn.net/v/t1.0-...</td>\n",
       "      <td>/story.php?story_fbid=961187350994364&amp;id=23449...</td>\n",
       "    </tr>\n",
       "    <tr>\n",
       "      <th>3</th>\n",
       "      <td>960726124373820</td>\n",
       "      <td>Prefeitura de Icém</td>\n",
       "      <td>[datetime.datetime(2020, 6, 27, 17, 32, 15)]</td>\n",
       "      <td>🚨Confira o Boletim Informativo🚨 de Icém refere...</td>\n",
       "      <td>https://scontent.fcgh7-1.fna.fbcdn.net/v/t1.0-...</td>\n",
       "      <td>/story.php?story_fbid=960726124373820&amp;id=23449...</td>\n",
       "    </tr>\n",
       "    <tr>\n",
       "      <th>4</th>\n",
       "      <td>960053934441039</td>\n",
       "      <td>Prefeitura de Icém</td>\n",
       "      <td>[datetime.datetime(2020, 6, 26, 19, 31, 11)]</td>\n",
       "      <td>Entrega dos cadernos de atividades complementa...</td>\n",
       "      <td>https://scontent.fcgh7-1.fna.fbcdn.net/v/t1.0-...</td>\n",
       "      <td>/story.php?story_fbid=960053934441039&amp;id=23449...</td>\n",
       "    </tr>\n",
       "  </tbody>\n",
       "</table>\n",
       "</div>"
      ],
      "text/plain": [
       "           post_id              source  \\\n",
       "0  962170830896016  Prefeitura de Icém   \n",
       "1  961495100963589  Prefeitura de Icém   \n",
       "2  961187350994364  Prefeitura de Icém   \n",
       "3  960726124373820  Prefeitura de Icém   \n",
       "4  960053934441039  Prefeitura de Icém   \n",
       "\n",
       "                                           date  \\\n",
       "0   [datetime.datetime(2020, 6, 29, 17, 0, 11)]   \n",
       "1   [datetime.datetime(2020, 6, 28, 17, 0, 15)]   \n",
       "2  [datetime.datetime(2020, 6, 28, 10, 15, 59)]   \n",
       "3  [datetime.datetime(2020, 6, 27, 17, 32, 15)]   \n",
       "4  [datetime.datetime(2020, 6, 26, 19, 31, 11)]   \n",
       "\n",
       "                                                text  \\\n",
       "0  🚨Confira o Boletim Informativo🚨 de Icém refere...   \n",
       "1  🚨Confira o Boletim Informativo🚨 de Icém refere...   \n",
       "2  Quero agradecer a cada um doador de sangue mui...   \n",
       "3  🚨Confira o Boletim Informativo🚨 de Icém refere...   \n",
       "4  Entrega dos cadernos de atividades complementa...   \n",
       "\n",
       "                                               image  \\\n",
       "0  https://scontent.fcgh7-1.fna.fbcdn.net/v/t1.0-...   \n",
       "1  https://scontent.fcgh7-1.fna.fbcdn.net/v/t1.0-...   \n",
       "2  https://scontent.fcgh7-1.fna.fbcdn.net/v/t1.0-...   \n",
       "3  https://scontent.fcgh7-1.fna.fbcdn.net/v/t1.0-...   \n",
       "4  https://scontent.fcgh7-1.fna.fbcdn.net/v/t1.0-...   \n",
       "\n",
       "                                                 url  \n",
       "0  /story.php?story_fbid=962170830896016&id=23449...  \n",
       "1  /story.php?story_fbid=961495100963589&id=23449...  \n",
       "2  /story.php?story_fbid=961187350994364&id=23449...  \n",
       "3  /story.php?story_fbid=960726124373820&id=23449...  \n",
       "4  /story.php?story_fbid=960053934441039&id=23449...  "
      ]
     },
     "execution_count": 3,
     "metadata": {},
     "output_type": "execute_result"
    }
   ],
   "source": [
    "df_posts = pd.read_csv(\"../dataset/posts_facebook.csv\")\n",
    "df_posts.head()"
   ]
  },
  {
   "cell_type": "code",
   "execution_count": 5,
   "metadata": {},
   "outputs": [],
   "source": [
    "df_posts = df_posts.fillna(\"\")\n",
    "posts_boletins = df_posts[df_posts['text'].str.contains(\"Boletim\")]"
   ]
  },
  {
   "cell_type": "code",
   "execution_count": 10,
   "metadata": {},
   "outputs": [],
   "source": [
    "def get_images(url):\n",
    "    driver = webdriver.Chrome(\n",
    "        executable_path=CHROMEDRIVER_PATH, chrome_options=chrome_options\n",
    "    )\n",
    "    print(f\"GET {url}\")\n",
    "    driver.get(url)\n",
    "    \n",
    "    time.sleep(3)\n",
    "    element = driver.find_element_by_id(\"expanding_cta_close_button\")\n",
    "    element.click()\n",
    "\n",
    "    time.sleep(3)\n",
    "    element = driver.find_element_by_xpath('//a[contains(@href,\"photo\")]')\n",
    "    element.click()\n",
    "\n",
    "    time.sleep(5)\n",
    "    photo = driver.find_element_by_xpath(\"//img[@class='spotlight']\")\n",
    "    src = photo.get_attribute(\"src\")\n",
    "    driver.quit()\n",
    "    return src"
   ]
  },
  {
   "cell_type": "markdown",
   "metadata": {},
   "source": [
    "#### Optendo imagens pelo WebBrowser"
   ]
  },
  {
   "cell_type": "code",
   "execution_count": 11,
   "metadata": {
    "scrolled": true
   },
   "outputs": [
    {
     "name": "stdout",
     "output_type": "stream",
     "text": [
      "Processando 962170830896016\n"
     ]
    },
    {
     "name": "stderr",
     "output_type": "stream",
     "text": [
      "/home/cesaraugusto/.pyenv/versions/3.7.7/envs/scrap2/lib/python3.7/site-packages/ipykernel_launcher.py:3: DeprecationWarning: use options instead of chrome_options\n",
      "  This is separate from the ipykernel package so we can avoid doing imports until\n"
     ]
    },
    {
     "name": "stdout",
     "output_type": "stream",
     "text": [
      "GET https://www.facebook.com/story.php?story_fbid=962170830896016&id=234499770329796\n",
      "Processando 961495100963589\n",
      "GET https://www.facebook.com/story.php?story_fbid=961495100963589&id=234499770329796\n",
      "Processando 960726124373820\n",
      "GET https://www.facebook.com/story.php?story_fbid=960726124373820&id=234499770329796\n",
      "Processando 959994087780357\n",
      "GET https://www.facebook.com/story.php?story_fbid=959994087780357&id=234499770329796\n",
      "Processando 959277597852006\n",
      "GET https://www.facebook.com/story.php?story_fbid=959277597852006&id=234499770329796\n",
      "Processando 957834814662951\n",
      "GET https://www.facebook.com/story.php?story_fbid=957834814662951&id=234499770329796\n",
      "Processando 957074851405614\n",
      "GET https://www.facebook.com/story.php?story_fbid=957074851405614&id=234499770329796\n",
      "Processando 956420174804415\n",
      "GET https://www.facebook.com/story.php?story_fbid=956420174804415&id=234499770329796\n",
      "Processando 955575804888852\n",
      "GET https://www.facebook.com/story.php?story_fbid=955575804888852&id=234499770329796\n",
      "Processando 954818228297943\n",
      "GET https://www.facebook.com/story.php?story_fbid=954818228297943&id=234499770329796\n",
      "Processando 954101798369586\n",
      "GET https://www.facebook.com/story.php?story_fbid=954101798369586&id=234499770329796\n",
      "Processando 953440648435701\n",
      "GET https://www.facebook.com/story.php?story_fbid=953440648435701&id=234499770329796\n",
      "Processando 953350978444668\n",
      "GET https://www.facebook.com/story.php?story_fbid=953350978444668&id=234499770329796\n",
      "Processando 952634735182959\n",
      "GET https://www.facebook.com/story.php?story_fbid=952634735182959&id=234499770329796\n",
      "Processando 951911955255237\n",
      "GET https://www.facebook.com/story.php?story_fbid=951911955255237&id=234499770329796\n",
      "Processando 951201068659659\n",
      "GET https://www.facebook.com/story.php?story_fbid=951201068659659&id=234499770329796\n",
      "Processando 950399455406487\n",
      "GET https://www.facebook.com/story.php?story_fbid=950399455406487&id=234499770329796\n",
      "Processando 949655008814265\n",
      "GET https://www.facebook.com/story.php?story_fbid=949655008814265&id=234499770329796\n",
      "Processando 948927698886996\n",
      "GET https://www.facebook.com/story.php?story_fbid=948927698886996&id=234499770329796\n",
      "Processando 948225618957204\n",
      "GET https://www.facebook.com/story.php?story_fbid=948225618957204&id=234499770329796\n",
      "Processando 947524912360608\n",
      "GET https://www.facebook.com/story.php?story_fbid=947524912360608&id=234499770329796\n",
      "Processando 946797012433398\n",
      "GET https://www.facebook.com/story.php?story_fbid=946797012433398&id=234499770329796\n",
      "Processando 945961455850287\n",
      "GET https://www.facebook.com/story.php?story_fbid=945961455850287&id=234499770329796\n",
      "Processando 945164655929967\n",
      "GET https://www.facebook.com/story.php?story_fbid=945164655929967&id=234499770329796\n",
      "Processando 944375739342192\n",
      "GET https://www.facebook.com/story.php?story_fbid=944375739342192&id=234499770329796\n",
      "Processando 943599962753103\n",
      "GET https://www.facebook.com/story.php?story_fbid=943599962753103&id=234499770329796\n",
      "Processando 942869009492865\n",
      "GET https://www.facebook.com/story.php?story_fbid=942869009492865&id=234499770329796\n",
      "Processando 942045649575201\n",
      "GET https://www.facebook.com/story.php?story_fbid=942045649575201&id=234499770329796\n",
      "Processando 941331232979976\n",
      "GET https://www.facebook.com/story.php?story_fbid=941331232979976&id=234499770329796\n",
      "Processando 940632983049801\n",
      "GET https://www.facebook.com/story.php?story_fbid=940632983049801&id=234499770329796\n",
      "Processando 939895953123504\n",
      "GET https://www.facebook.com/story.php?story_fbid=939895953123504&id=234499770329796\n",
      "Processando 938486406597792\n",
      "GET https://www.facebook.com/story.php?story_fbid=938486406597792&id=234499770329796\n",
      "Processando 937799159999850\n",
      "GET https://www.facebook.com/story.php?story_fbid=937799159999850&id=234499770329796\n",
      "Processando 937118353401264\n",
      "GET https://www.facebook.com/story.php?story_fbid=937118353401264&id=234499770329796\n",
      "Processando 936438846802548\n",
      "GET https://www.facebook.com/story.php?story_fbid=936438846802548&id=234499770329796\n",
      "Processando 935744646871968\n",
      "GET https://www.facebook.com/story.php?story_fbid=935744646871968&id=234499770329796\n",
      "Processando 934966390283127\n",
      "GET https://www.facebook.com/story.php?story_fbid=934966390283127&id=234499770329796\n",
      "Processando 934317227014710\n",
      "GET https://www.facebook.com/story.php?story_fbid=934317227014710&id=234499770329796\n",
      "Processando 933681570411609\n",
      "GET https://www.facebook.com/story.php?story_fbid=933681570411609&id=234499770329796\n",
      "Processando 932964337149999\n",
      "GET https://www.facebook.com/story.php?story_fbid=932964337149999&id=234499770329796\n",
      "Processando 932237137222719\n",
      "GET https://www.facebook.com/story.php?story_fbid=932237137222719&id=234499770329796\n",
      "Processando 931599930619773\n",
      "GET https://www.facebook.com/story.php?story_fbid=931599930619773&id=234499770329796\n",
      "Processando 930854597360973\n",
      "GET https://www.facebook.com/story.php?story_fbid=930854597360973&id=234499770329796\n",
      "Processando 930050567441376\n",
      "GET https://www.facebook.com/story.php?story_fbid=930050567441376&id=234499770329796\n",
      "Processando 929337364179363\n",
      "GET https://www.facebook.com/story.php?story_fbid=929337364179363&id=234499770329796\n",
      "Processando 928653134247786\n",
      "GET https://www.facebook.com/story.php?story_fbid=928653134247786&id=234499770329796\n",
      "Processando 927855387660894\n",
      "GET https://www.facebook.com/story.php?story_fbid=927855387660894&id=234499770329796\n",
      "Processando 927102641069502\n",
      "GET https://www.facebook.com/story.php?story_fbid=927102641069502&id=234499770329796\n",
      "Processando 926448024468297\n",
      "GET https://www.facebook.com/story.php?story_fbid=926448024468297&id=234499770329796\n",
      "Processando 925721217874311\n",
      "GET https://www.facebook.com/story.php?story_fbid=925721217874311&id=234499770329796\n",
      "Processando 925256867920746\n",
      "GET https://www.facebook.com/story.php?story_fbid=925256867920746&id=234499770329796\n",
      "Processando 924278034685296\n",
      "GET https://www.facebook.com/story.php?story_fbid=924278034685296&id=234499770329796\n",
      "Processando 923407364772363\n",
      "GET https://www.facebook.com/story.php?story_fbid=923407364772363&id=234499770329796\n",
      "Processando 922724191507347\n",
      "GET https://www.facebook.com/story.php?story_fbid=922724191507347&id=234499770329796\n",
      "Processando 922017348244698\n",
      "GET https://www.facebook.com/story.php?story_fbid=922017348244698&id=234499770329796\n",
      "Processando 921395901640176\n",
      "GET https://www.facebook.com/story.php?story_fbid=921395901640176&id=234499770329796\n",
      "Processando 920747925038307\n",
      "GET https://www.facebook.com/story.php?story_fbid=920747925038307&id=234499770329796\n",
      "Processando 919967415116358\n",
      "GET https://www.facebook.com/story.php?story_fbid=919967415116358&id=234499770329796\n",
      "Processando 918593851920381\n",
      "GET https://www.facebook.com/story.php?story_fbid=918593851920381&id=234499770329796\n",
      "Processando 917796282000138\n",
      "GET https://www.facebook.com/story.php?story_fbid=917796282000138&id=234499770329796\n",
      "Processando 917122198734213\n",
      "GET https://www.facebook.com/story.php?story_fbid=917122198734213&id=234499770329796\n",
      "Processando 916383368808096\n",
      "GET https://www.facebook.com/story.php?story_fbid=916383368808096&id=234499770329796\n",
      "Processando 896425497470550\n",
      "GET https://www.facebook.com/story.php?story_fbid=896425497470550&id=234499770329796\n",
      "Processando 893512011095232\n",
      "GET https://www.facebook.com/story.php?story_fbid=893512011095232&id=234499770329796\n",
      "Processando 892766317836468\n",
      "GET https://www.facebook.com/story.php?story_fbid=892766317836468&id=234499770329796\n",
      "Processando 891988834580883\n",
      "GET https://www.facebook.com/story.php?story_fbid=891988834580883&id=234499770329796\n",
      "Processando 891246181321815\n",
      "GET https://www.facebook.com/story.php?story_fbid=891246181321815&id=234499770329796\n",
      "Processando 889596544820112\n",
      "GET https://www.facebook.com/story.php?story_fbid=889596544820112&id=234499770329796\n",
      "Processando 888791801567253\n",
      "GET https://www.facebook.com/story.php?story_fbid=888791801567253&id=234499770329796\n"
     ]
    }
   ],
   "source": [
    "imagens = []\n",
    "for _, post in posts_boletins.iterrows():\n",
    "    print(f\"Processando {post.post_id}\")\n",
    "    try:\n",
    "        imagens.append(\n",
    "            get_images(f\"https://www.facebook.com{post.url}\")\n",
    "        )\n",
    "    except NoSuchElementException:\n",
    "        print(f\"Erro em -> https://www.facebook.com{post.url}\")\n",
    "    \n",
    "    "
   ]
  },
  {
   "cell_type": "markdown",
   "metadata": {},
   "source": [
    "#### Salvando dataset refinado"
   ]
  },
  {
   "cell_type": "code",
   "execution_count": 16,
   "metadata": {},
   "outputs": [
    {
     "name": "stderr",
     "output_type": "stream",
     "text": [
      "/home/cesaraugusto/.pyenv/versions/3.7.7/envs/scrap2/lib/python3.7/site-packages/ipykernel_launcher.py:1: SettingWithCopyWarning: \n",
      "A value is trying to be set on a copy of a slice from a DataFrame.\n",
      "Try using .loc[row_indexer,col_indexer] = value instead\n",
      "\n",
      "See the caveats in the documentation: https://pandas.pydata.org/pandas-docs/stable/user_guide/indexing.html#returning-a-view-versus-a-copy\n",
      "  \"\"\"Entry point for launching an IPython kernel.\n"
     ]
    }
   ],
   "source": [
    "posts_boletins['image'] = imagens"
   ]
  },
  {
   "cell_type": "code",
   "execution_count": 22,
   "metadata": {},
   "outputs": [],
   "source": [
    "posts_boletins.to_csv('../dataset/posts_boletins_refine.csv')"
   ]
  }
 ],
 "metadata": {
  "kernelspec": {
   "display_name": "scrap",
   "language": "python",
   "name": "scrap"
  },
  "language_info": {
   "codemirror_mode": {
    "name": "ipython",
    "version": 3
   },
   "file_extension": ".py",
   "mimetype": "text/x-python",
   "name": "python",
   "nbconvert_exporter": "python",
   "pygments_lexer": "ipython3",
   "version": "3.7.7"
  }
 },
 "nbformat": 4,
 "nbformat_minor": 4
}
